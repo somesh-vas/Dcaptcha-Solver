{
 "cells": [
  {
   "cell_type": "code",
   "execution_count": 1,
   "id": "b3d2f9d4",
   "metadata": {},
   "outputs": [],
   "source": [
    "import numpy as np # for array manipulations and calculations\n",
    "import cv2 # for preprocessing of images\n",
    " \n",
    "import matplotlib.pyplot as plt # to show the image\n",
    "\n",
    "from sklearn.model_selection import train_test_split # train test split for images\n",
    "\n",
    "from sklearn import svm # SVM model\n",
    "\n",
    "import joblib # To save the model\n",
    "\n",
    "# for accuracy and confusion matrix\n",
    "from sklearn.metrics import accuracy_score\n",
    "from sklearn.metrics import confusion_matrix"
   ]
  },
  {
   "cell_type": "markdown",
   "id": "58d92ad4",
   "metadata": {},
   "source": [
    "# Read the labels"
   ]
  },
  {
   "cell_type": "code",
   "execution_count": 2,
   "id": "5d1b818e",
   "metadata": {},
   "outputs": [],
   "source": [
    "# Labels\n",
    "\n",
    "Y = []\n",
    "\n",
    "with open('./output.txt', \"r\") as file:\n",
    "    for line in file:\n",
    "        # Process the current line\n",
    "        Y.append(line.strip())"
   ]
  },
  {
   "cell_type": "code",
   "execution_count": 3,
   "id": "1cdad340",
   "metadata": {},
   "outputs": [
    {
     "data": {
      "text/plain": [
       "8000"
      ]
     },
     "execution_count": 3,
     "metadata": {},
     "output_type": "execute_result"
    }
   ],
   "source": [
    "len(Y)"
   ]
  },
  {
   "cell_type": "code",
   "execution_count": 4,
   "id": "f6a8ec6c",
   "metadata": {},
   "outputs": [
    {
     "name": "stdout",
     "output_type": "stream",
     "text": [
      "2\n"
     ]
    }
   ],
   "source": [
    "print(Y[0])"
   ]
  },
  {
   "cell_type": "markdown",
   "id": "5877f2dc",
   "metadata": {},
   "source": [
    "# Read the images\n",
    "\n",
    "The images are read and preprocecssed. \n",
    "\n",
    "# Preprocessing\n",
    "\n",
    "Initially to find the background color, the corners are tested.\n",
    "\n",
    "Then those pixels are masked and removed.\n",
    "\n",
    "The erode function is used to erode the background lines in the image.\n",
    "\n",
    "Then the numbers in the image are identified with contour plotting, separated,  normalized and flattened (converted to 1D array)."
   ]
  },
  {
   "cell_type": "code",
   "execution_count": 5,
   "id": "fad4c58e",
   "metadata": {},
   "outputs": [],
   "source": [
    "def preProcImg(img):\n",
    "\n",
    "    flag = True\n",
    "    \n",
    "    l,w, _ = img.shape\n",
    "    corners = [img[0,0].tolist(),img[0,w-1].tolist(),img[l-1,w-1].tolist(),img[l-1,0].tolist()]\n",
    "    corners = [tuple(c) for c in corners]\n",
    "\n",
    "    bg = max(set(corners), key=corners.count)\n",
    "\n",
    "    mask = np.logical_not(np.all(img==bg,-1))\n",
    "\n",
    "    kernel = np.ones((5, 5), np.uint8)\n",
    "\n",
    "    mask = cv2.erode(mask.astype(np.uint8), kernel)\n",
    "\n",
    "    contours, _ = cv2.findContours(mask, cv2.RETR_TREE, cv2.CHAIN_APPROX_SIMPLE)\n",
    "\n",
    "    dummy = sorted(contours, key=cv2.contourArea, reverse=True)\n",
    "\n",
    "    dummy = dummy[:4]\n",
    "\n",
    "    dummy = sorted(dummy, key=lambda dummy: cv2.boundingRect(dummy)[0])\n",
    "\n",
    "    ret  = []\n",
    "\n",
    "    for c in dummy:\n",
    "        \n",
    "        left = max(np.amin(c[:,:,0]).item()-20, 0)\n",
    "        right = min(np.amax(c[:,:,0]).item()+20, w)\n",
    "        retImg = np.clip(mask[:,left:right].astype(np.float32)*255, 0,255)\n",
    "        retImg = cv2.resize(retImg.astype(np.uint8),(32,32))\n",
    "        retImg = cv2.normalize(retImg, None, alpha=0, beta=1, norm_type=cv2.NORM_MINMAX, dtype=cv2.CV_32F)\n",
    "        \n",
    "        # to view the images, display retImg from here\n",
    "        \n",
    "        if flag:\n",
    "            plt.imshow(retImg)\n",
    "            flag = False\n",
    "            \n",
    "        retImg = retImg.flatten()\n",
    "        ret.append(retImg)\n",
    "        \n",
    "\n",
    "    return ret"
   ]
  },
  {
   "cell_type": "code",
   "execution_count": 6,
   "id": "1c06a167",
   "metadata": {},
   "outputs": [],
   "source": [
    "def getImgs():\n",
    "    X = []\n",
    "    ret = []\n",
    "    for i in range(2000):\n",
    "        img = cv2.imread(f'./train/{i}.png')\n",
    "        X = preProcImg(img)\n",
    "        \n",
    "        ret.extend(X)\n",
    "            \n",
    "    return ret\n",
    "  "
   ]
  },
  {
   "cell_type": "markdown",
   "id": "5496c67a",
   "metadata": {},
   "source": [
    "An example for the processed image before flattening is displayed down"
   ]
  },
  {
   "cell_type": "code",
   "execution_count": 7,
   "id": "6d03d03e",
   "metadata": {},
   "outputs": [
    {
     "data": {
      "image/png": "[encoded data removed]",
      "text/plain": [
       "<Figure size 640x480 with 1 Axes>"
      ]
     },
     "metadata": {},
     "output_type": "display_data"
    }
   ],
   "source": [
    "X = getImgs()"
   ]
  },
  {
   "cell_type": "code",
   "execution_count": 9,
   "id": "8674dbb3",
   "metadata": {},
   "outputs": [
    {
     "name": "stdout",
     "output_type": "stream",
     "text": [
      "8000\n",
      "(1024,)\n"
     ]
    }
   ],
   "source": [
    "print(len(X))\n",
    "print(X[0].shape)"
   ]
  },
  {
   "cell_type": "code",
   "execution_count": 10,
   "id": "51d39d5a",
   "metadata": {},
   "outputs": [],
   "source": [
    "xtrain, xtest, ytrain, ytest = train_test_split(X, Y, test_size = 0.2, random_state = 22)"
   ]
  },
  {
   "cell_type": "code",
   "execution_count": 11,
   "id": "07863c32",
   "metadata": {},
   "outputs": [],
   "source": [
    "xtrain = np.array(xtrain)\n",
    "xtest = np.array(xtest)\n",
    "ytrain = np.array(ytrain)\n",
    "ytest = np.array(ytest)"
   ]
  },
  {
   "cell_type": "markdown",
   "id": "993f4729",
   "metadata": {},
   "source": [
    "# Training\n",
    "\n",
    "SVM from scikit library is used"
   ]
  },
  {
   "cell_type": "code",
   "execution_count": 12,
   "id": "f711f1e6",
   "metadata": {},
   "outputs": [],
   "source": [
    "def train(xtrain, ytrain):\n",
    "\n",
    "    model = svm.SVC()\n",
    "\n",
    "    model.fit(xtrain, ytrain)\n",
    "\n",
    "    joblib.dump(model, './model.joblib')    \n",
    "\n",
    "    return model "
   ]
  },
  {
   "cell_type": "code",
   "execution_count": 13,
   "id": "49f7acf2",
   "metadata": {},
   "outputs": [],
   "source": [
    "model = train(xtrain, ytrain)"
   ]
  },
  {
   "cell_type": "code",
   "execution_count": 14,
   "id": "2347f24b",
   "metadata": {},
   "outputs": [],
   "source": [
    "ypred = model.predict(xtest)"
   ]
  },
  {
   "cell_type": "markdown",
   "id": "44d2c97c",
   "metadata": {},
   "source": [
    "# Accuracy achieved - 99.93 %"
   ]
  },
  {
   "cell_type": "code",
   "execution_count": 15,
   "id": "f9356546",
   "metadata": {},
   "outputs": [
    {
     "data": {
      "text/plain": [
       "0.999375"
      ]
     },
     "execution_count": 15,
     "metadata": {},
     "output_type": "execute_result"
    }
   ],
   "source": [
    "accuracy_score(ytest, ypred)"
   ]
  },
  {
   "cell_type": "code",
   "execution_count": 16,
   "id": "fda11236",
   "metadata": {},
   "outputs": [
    {
     "data": {
      "text/plain": [
       "array([[ 64,   0,   0,   0,   0,   0,   0,   0,   0,   0,   0,   0,   0,\n",
       "          0,   0,   0],\n",
       "       [  0, 106,   0,   0,   0,   0,   0,   0,   0,   0,   0,   0,   0,\n",
       "          0,   0,   0],\n",
       "       [  0,   0,  95,   0,   0,   0,   0,   0,   0,   0,   0,   0,   0,\n",
       "          0,   0,   0],\n",
       "       [  0,   0,   0, 105,   0,   0,   0,   0,   0,   0,   0,   0,   0,\n",
       "          0,   0,   0],\n",
       "       [  0,   0,   0,   0,  93,   0,   0,   0,   0,   0,   0,   0,   0,\n",
       "          0,   0,   0],\n",
       "       [  0,   0,   0,   0,   0, 112,   0,   0,   0,   0,   0,   0,   0,\n",
       "          0,   0,   0],\n",
       "       [  0,   0,   0,   0,   0,   0,  83,   0,   0,   0,   0,   0,   0,\n",
       "          0,   0,   0],\n",
       "       [  0,   0,   0,   0,   0,   0,   0, 120,   0,   0,   0,   0,   0,\n",
       "          0,   0,   0],\n",
       "       [  0,   0,   0,   0,   0,   0,   0,   0,  99,   0,   0,   0,   0,\n",
       "          0,   0,   0],\n",
       "       [  0,   0,   0,   0,   0,   0,   0,   0,   0, 125,   0,   0,   0,\n",
       "          0,   0,   0],\n",
       "       [  0,   0,   0,   0,   0,   0,   0,   0,   0,   0, 106,   0,   0,\n",
       "          0,   0,   0],\n",
       "       [  0,   0,   0,   0,   0,   0,   0,   0,   0,   0,   0,  87,   0,\n",
       "          0,   0,   0],\n",
       "       [  0,   0,   0,   0,   0,   0,   0,   0,   0,   0,   0,   0, 107,\n",
       "          0,   0,   0],\n",
       "       [  0,   0,   0,   0,   0,   0,   0,   0,   0,   0,   0,   0,   0,\n",
       "        101,   0,   0],\n",
       "       [  0,   0,   0,   0,   0,   0,   0,   0,   0,   0,   0,   0,   0,\n",
       "          0, 101,   0],\n",
       "       [  0,   0,   0,   0,   1,   0,   0,   0,   0,   0,   0,   0,   0,\n",
       "          0,   0,  95]], dtype=int64)"
      ]
     },
     "execution_count": 16,
     "metadata": {},
     "output_type": "execute_result"
    }
   ],
   "source": [
    "confusion_matrix(ytest, ypred)"
   ]
  }
 ],
 "metadata": {
  "kernelspec": {
   "display_name": "Python 3 (ipykernel)",
   "language": "python",
   "name": "python3"
  },
  "language_info": {
   "codemirror_mode": {
    "name": "ipython",
    "version": 3
   },
   "file_extension": ".py",
   "mimetype": "text/x-python",
   "name": "python",
   "nbconvert_exporter": "python",
   "pygments_lexer": "ipython3",
   "version": "3.11.2"
  }
 },
 "nbformat": 4,
 "nbformat_minor": 5
}
